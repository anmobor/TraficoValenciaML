{
 "cells": [
  {
   "cell_type": "code",
   "execution_count": 3,
   "metadata": {
    "pycharm": {
     "name": "#%%\n"
    }
   },
   "outputs": [],
   "source": [
    "import numpy as np\n",
    "import pandas as pd\n",
    "import seaborn as sns\n",
    "import matplotlib.pyplot as plt\n",
    "sns.set(color_codes=True)\n",
    "%matplotlib inline\n",
    "import pickle"
   ]
  },
  {
   "cell_type": "code",
   "execution_count": 2,
   "metadata": {
    "pycharm": {
     "name": "#%%\n"
    }
   },
   "outputs": [],
   "source": [
    "datos_trafico= pd.read_csv('datos_trafico_t_f_datos_aforados2Semestre2019.csv',usecols = ['t_f_datos_aforados_pm.idta','t_f_datos_aforados_pm.descripcion','t_f_datos_aforados_pm.hora','t_f_datos_aforados_pm.intensidad','t_f_datos_aforados_pm.ocupacion','t_f_datos_aforados_pm.velocidad'])"
   ]
  },
  {
   "cell_type": "code",
   "execution_count": 3,
   "metadata": {
    "pycharm": {
     "name": "#%%\n"
    }
   },
   "outputs": [
    {
     "data": {
      "text/html": [
       "<div>\n",
       "<style scoped>\n",
       "    .dataframe tbody tr th:only-of-type {\n",
       "        vertical-align: middle;\n",
       "    }\n",
       "\n",
       "    .dataframe tbody tr th {\n",
       "        vertical-align: top;\n",
       "    }\n",
       "\n",
       "    .dataframe thead th {\n",
       "        text-align: right;\n",
       "    }\n",
       "</style>\n",
       "<table border=\"1\" class=\"dataframe\">\n",
       "  <thead>\n",
       "    <tr style=\"text-align: right;\">\n",
       "      <th></th>\n",
       "      <th>t_f_datos_aforados_pm.idta</th>\n",
       "      <th>t_f_datos_aforados_pm.descripcion</th>\n",
       "      <th>t_f_datos_aforados_pm.hora</th>\n",
       "      <th>t_f_datos_aforados_pm.intensidad</th>\n",
       "      <th>t_f_datos_aforados_pm.ocupacion</th>\n",
       "      <th>t_f_datos_aforados_pm.velocidad</th>\n",
       "    </tr>\n",
       "  </thead>\n",
       "  <tbody>\n",
       "    <tr>\n",
       "      <td>0</td>\n",
       "      <td>26</td>\n",
       "      <td>MARÍA CRISTINA, Nº 1 (del giro de C/ San Vicen...</td>\n",
       "      <td>2019-07-01 00:00:00.0</td>\n",
       "      <td>26</td>\n",
       "      <td>0</td>\n",
       "      <td>12</td>\n",
       "    </tr>\n",
       "    <tr>\n",
       "      <td>1</td>\n",
       "      <td>1396</td>\n",
       "      <td>CV - 315 (BENIFARAIG) sentido VALENCIA</td>\n",
       "      <td>2019-07-01 00:00:00.0</td>\n",
       "      <td>124</td>\n",
       "      <td>0</td>\n",
       "      <td>24</td>\n",
       "    </tr>\n",
       "    <tr>\n",
       "      <td>2</td>\n",
       "      <td>1104</td>\n",
       "      <td>AV. CONSTITUCIÓN Nº 188 (de Coronel Montesinos...</td>\n",
       "      <td>2019-07-01 00:00:00.0</td>\n",
       "      <td>38</td>\n",
       "      <td>0</td>\n",
       "      <td>11</td>\n",
       "    </tr>\n",
       "    <tr>\n",
       "      <td>3</td>\n",
       "      <td>990</td>\n",
       "      <td>AV. CONSTITUCIÓN, Nº 188 (de Pl. D. Bosco a Co...</td>\n",
       "      <td>2019-07-01 00:00:00.0</td>\n",
       "      <td>112</td>\n",
       "      <td>0</td>\n",
       "      <td>11</td>\n",
       "    </tr>\n",
       "    <tr>\n",
       "      <td>4</td>\n",
       "      <td>992</td>\n",
       "      <td>CONDE LUMIARES, Nº 22 (Pl. Tosal del Rey a Ped...</td>\n",
       "      <td>2019-07-01 00:00:00.0</td>\n",
       "      <td>126</td>\n",
       "      <td>1</td>\n",
       "      <td>14</td>\n",
       "    </tr>\n",
       "  </tbody>\n",
       "</table>\n",
       "</div>"
      ],
      "text/plain": [
       "   t_f_datos_aforados_pm.idta  \\\n",
       "0                          26   \n",
       "1                        1396   \n",
       "2                        1104   \n",
       "3                         990   \n",
       "4                         992   \n",
       "\n",
       "                   t_f_datos_aforados_pm.descripcion  \\\n",
       "0  MARÍA CRISTINA, Nº 1 (del giro de C/ San Vicen...   \n",
       "1             CV - 315 (BENIFARAIG) sentido VALENCIA   \n",
       "2  AV. CONSTITUCIÓN Nº 188 (de Coronel Montesinos...   \n",
       "3  AV. CONSTITUCIÓN, Nº 188 (de Pl. D. Bosco a Co...   \n",
       "4  CONDE LUMIARES, Nº 22 (Pl. Tosal del Rey a Ped...   \n",
       "\n",
       "  t_f_datos_aforados_pm.hora  t_f_datos_aforados_pm.intensidad  \\\n",
       "0      2019-07-01 00:00:00.0                                26   \n",
       "1      2019-07-01 00:00:00.0                               124   \n",
       "2      2019-07-01 00:00:00.0                                38   \n",
       "3      2019-07-01 00:00:00.0                               112   \n",
       "4      2019-07-01 00:00:00.0                               126   \n",
       "\n",
       "   t_f_datos_aforados_pm.ocupacion  t_f_datos_aforados_pm.velocidad  \n",
       "0                                0                               12  \n",
       "1                                0                               24  \n",
       "2                                0                               11  \n",
       "3                                0                               11  \n",
       "4                                1                               14  "
      ]
     },
     "execution_count": 3,
     "metadata": {},
     "output_type": "execute_result"
    }
   ],
   "source": [
    "datos_trafico.head()"
   ]
  },
  {
   "cell_type": "code",
   "execution_count": 4,
   "metadata": {
    "pycharm": {
     "name": "#%%\n"
    }
   },
   "outputs": [],
   "source": [
    "datos_trafico.rename(columns={'t_f_datos_aforados_pm.idta':'idTramo', 't_f_datos_aforados_pm.descripcion':'descripcion', \n",
    "'t_f_datos_aforados_pm.hora':'datetime','t_f_datos_aforados_pm.intensidad':'intensidad','t_f_datos_aforados_pm.ocupacion':'ocupacion'\n",
    "                           ,'t_f_datos_aforados_pm.velocidad':'velocidad'}, \n",
    "                  inplace=True)"
   ]
  },
  {
   "cell_type": "code",
   "execution_count": 5,
   "metadata": {
    "pycharm": {
     "name": "#%%\n"
    }
   },
   "outputs": [
    {
     "data": {
      "text/html": [
       "<div>\n",
       "<style scoped>\n",
       "    .dataframe tbody tr th:only-of-type {\n",
       "        vertical-align: middle;\n",
       "    }\n",
       "\n",
       "    .dataframe tbody tr th {\n",
       "        vertical-align: top;\n",
       "    }\n",
       "\n",
       "    .dataframe thead th {\n",
       "        text-align: right;\n",
       "    }\n",
       "</style>\n",
       "<table border=\"1\" class=\"dataframe\">\n",
       "  <thead>\n",
       "    <tr style=\"text-align: right;\">\n",
       "      <th></th>\n",
       "      <th>idTramo</th>\n",
       "      <th>descripcion</th>\n",
       "      <th>datetime</th>\n",
       "      <th>intensidad</th>\n",
       "      <th>ocupacion</th>\n",
       "      <th>velocidad</th>\n",
       "    </tr>\n",
       "  </thead>\n",
       "  <tbody>\n",
       "    <tr>\n",
       "      <td>0</td>\n",
       "      <td>26</td>\n",
       "      <td>MARÍA CRISTINA, Nº 1 (del giro de C/ San Vicen...</td>\n",
       "      <td>2019-07-01 00:00:00.0</td>\n",
       "      <td>26</td>\n",
       "      <td>0</td>\n",
       "      <td>12</td>\n",
       "    </tr>\n",
       "    <tr>\n",
       "      <td>1</td>\n",
       "      <td>1396</td>\n",
       "      <td>CV - 315 (BENIFARAIG) sentido VALENCIA</td>\n",
       "      <td>2019-07-01 00:00:00.0</td>\n",
       "      <td>124</td>\n",
       "      <td>0</td>\n",
       "      <td>24</td>\n",
       "    </tr>\n",
       "    <tr>\n",
       "      <td>2</td>\n",
       "      <td>1104</td>\n",
       "      <td>AV. CONSTITUCIÓN Nº 188 (de Coronel Montesinos...</td>\n",
       "      <td>2019-07-01 00:00:00.0</td>\n",
       "      <td>38</td>\n",
       "      <td>0</td>\n",
       "      <td>11</td>\n",
       "    </tr>\n",
       "    <tr>\n",
       "      <td>3</td>\n",
       "      <td>990</td>\n",
       "      <td>AV. CONSTITUCIÓN, Nº 188 (de Pl. D. Bosco a Co...</td>\n",
       "      <td>2019-07-01 00:00:00.0</td>\n",
       "      <td>112</td>\n",
       "      <td>0</td>\n",
       "      <td>11</td>\n",
       "    </tr>\n",
       "    <tr>\n",
       "      <td>4</td>\n",
       "      <td>992</td>\n",
       "      <td>CONDE LUMIARES, Nº 22 (Pl. Tosal del Rey a Ped...</td>\n",
       "      <td>2019-07-01 00:00:00.0</td>\n",
       "      <td>126</td>\n",
       "      <td>1</td>\n",
       "      <td>14</td>\n",
       "    </tr>\n",
       "  </tbody>\n",
       "</table>\n",
       "</div>"
      ],
      "text/plain": [
       "   idTramo                                        descripcion  \\\n",
       "0       26  MARÍA CRISTINA, Nº 1 (del giro de C/ San Vicen...   \n",
       "1     1396             CV - 315 (BENIFARAIG) sentido VALENCIA   \n",
       "2     1104  AV. CONSTITUCIÓN Nº 188 (de Coronel Montesinos...   \n",
       "3      990  AV. CONSTITUCIÓN, Nº 188 (de Pl. D. Bosco a Co...   \n",
       "4      992  CONDE LUMIARES, Nº 22 (Pl. Tosal del Rey a Ped...   \n",
       "\n",
       "                datetime  intensidad  ocupacion  velocidad  \n",
       "0  2019-07-01 00:00:00.0          26          0         12  \n",
       "1  2019-07-01 00:00:00.0         124          0         24  \n",
       "2  2019-07-01 00:00:00.0          38          0         11  \n",
       "3  2019-07-01 00:00:00.0         112          0         11  \n",
       "4  2019-07-01 00:00:00.0         126          1         14  "
      ]
     },
     "execution_count": 5,
     "metadata": {},
     "output_type": "execute_result"
    }
   ],
   "source": [
    "datos_trafico.head()"
   ]
  },
  {
   "cell_type": "code",
   "execution_count": 6,
   "metadata": {
    "pycharm": {
     "name": "#%%\n"
    }
   },
   "outputs": [
    {
     "data": {
      "text/plain": [
       "idTramo         int64\n",
       "descripcion    object\n",
       "datetime       object\n",
       "intensidad      int64\n",
       "ocupacion       int64\n",
       "velocidad       int64\n",
       "dtype: object"
      ]
     },
     "execution_count": 6,
     "metadata": {},
     "output_type": "execute_result"
    }
   ],
   "source": [
    "datos_trafico.dtypes"
   ]
  },
  {
   "cell_type": "code",
   "execution_count": 7,
   "metadata": {
    "pycharm": {
     "name": "#%%\n"
    }
   },
   "outputs": [],
   "source": [
    "datos_trafico['datetime'] = pd.to_datetime(datos_trafico['datetime'], format='%Y-%m-%d %H:%M:%S')"
   ]
  },
  {
   "cell_type": "code",
   "execution_count": 8,
   "metadata": {
    "pycharm": {
     "name": "#%%\n"
    }
   },
   "outputs": [
    {
     "data": {
      "text/plain": [
       "idTramo                 int64\n",
       "descripcion            object\n",
       "datetime       datetime64[ns]\n",
       "intensidad              int64\n",
       "ocupacion               int64\n",
       "velocidad               int64\n",
       "dtype: object"
      ]
     },
     "execution_count": 8,
     "metadata": {},
     "output_type": "execute_result"
    }
   ],
   "source": [
    "datos_trafico.dtypes"
   ]
  },
  {
   "cell_type": "markdown",
   "metadata": {
    "pycharm": {
     "name": "#%% md\n"
    }
   },
   "source": [
    "No hay ningún NaN"
   ]
  },
  {
   "cell_type": "code",
   "execution_count": 9,
   "metadata": {
    "pycharm": {
     "name": "#%%\n"
    }
   },
   "outputs": [
    {
     "name": "stdout",
     "output_type": "stream",
     "text": [
      "          idTramo  descripcion  datetime  intensidad  ocupacion  velocidad\n",
      "0           False        False     False       False      False      False\n",
      "1           False        False     False       False      False      False\n",
      "2           False        False     False       False      False      False\n",
      "3           False        False     False       False      False      False\n",
      "4           False        False     False       False      False      False\n",
      "...           ...          ...       ...         ...        ...        ...\n",
      "27226658    False        False     False       False      False      False\n",
      "27226659    False        False     False       False      False      False\n",
      "27226660    False        False     False       False      False      False\n",
      "27226661    False        False     False       False      False      False\n",
      "27226662    False        False     False       False      False      False\n",
      "\n",
      "[27226663 rows x 6 columns]\n",
      "False\n"
     ]
    }
   ],
   "source": [
    "print(datos_trafico.isnull() == True )\n",
    "print(datos_trafico.isnull().values.any())"
   ]
  },
  {
   "cell_type": "code",
   "execution_count": 10,
   "metadata": {
    "pycharm": {
     "name": "#%%\n"
    }
   },
   "outputs": [
    {
     "data": {
      "text/plain": [
       "27226663"
      ]
     },
     "execution_count": 10,
     "metadata": {},
     "output_type": "execute_result"
    }
   ],
   "source": [
    "len(datos_trafico)"
   ]
  },
  {
   "cell_type": "code",
   "execution_count": 11,
   "metadata": {
    "pycharm": {
     "name": "#%%\n"
    }
   },
   "outputs": [
    {
     "data": {
      "text/plain": [
       "Timestamp('2019-12-05 17:10:00')"
      ]
     },
     "execution_count": 11,
     "metadata": {},
     "output_type": "execute_result"
    }
   ],
   "source": [
    "max(datos_trafico['datetime'])"
   ]
  },
  {
   "cell_type": "code",
   "execution_count": 12,
   "metadata": {
    "pycharm": {
     "name": "#%%\n"
    }
   },
   "outputs": [
    {
     "data": {
      "text/plain": [
       "Timestamp('2019-07-01 00:00:00')"
      ]
     },
     "execution_count": 12,
     "metadata": {},
     "output_type": "execute_result"
    }
   ],
   "source": [
    "min(datos_trafico['datetime'])"
   ]
  },
  {
   "cell_type": "code",
   "execution_count": 13,
   "metadata": {
    "pycharm": {
     "name": "#%%\n"
    }
   },
   "outputs": [],
   "source": [
    "datos_trafico.to_pickle('trafico_2semestre2019.plk')"
   ]
  },
  {
   "cell_type": "code",
   "execution_count": 14,
   "metadata": {
    "pycharm": {
     "name": "#%%\n"
    }
   },
   "outputs": [],
   "source": [
    "from pandas.plotting import register_matplotlib_converters\n",
    "register_matplotlib_converters()"
   ]
  },
  {
   "cell_type": "markdown",
   "metadata": {
    "pycharm": {
     "name": "#%% md\n"
    }
   },
   "source": [
    "#El siguiente gráfico, que no es el que mejor muestra los datos, el que hay detrás sería mejor, le cuesta muchísimo \n",
    "#a mi ordenador de renderizar, TARDA UN CUARTO DE HORA 15M"
   ]
  },
  {
   "cell_type": "code",
   "execution_count": 15,
   "metadata": {
    "pycharm": {
     "name": "#%%\n"
    }
   },
   "outputs": [
    {
     "data": {
      "image/png": "[encoded data removed]",
      "text/plain": [
       "<Figure size 432x288 with 1 Axes>"
      ]
     },
     "metadata": {
      "needs_background": "light"
     },
     "output_type": "display_data"
    }
   ],
   "source": [
    "plt.xticks(rotation=90)\n",
    "plt.yticks(rotation=90)\n",
    "plt.xlabel(\"Fecha\")\n",
    "plt.ylabel(\"Y\")\n",
    "plt.title(\"Datos tráfico 2 2019\")\n",
    "colores = ['#FFD700','#C0C0C0','#8C7853', '#4C7853']\n",
    "h = plt.scatter(datos_trafico['datetime'],datos_trafico['ocupacion'],linewidths=0)\n",
    "p = plt.scatter(datos_trafico['datetime'],datos_trafico['intensidad'],linewidths=0)\n",
    "z = plt.scatter(datos_trafico['datetime'],datos_trafico['velocidad'],linewidths=0)\n",
    "id = plt.scatter(datos_trafico['datetime'],datos_trafico['idTramo'],linewidths=0, alpha=0.0)\n",
    "\n",
    "plt.legend((h, p, z, id),\n",
    "           ('ocupacion', 'intensidad', 'velocidad', 'idTramo'),\n",
    "           scatterpoints=1,\n",
    "           loc='upper right',\n",
    "           ncol=1,\n",
    "           fontsize=8)\n",
    "plt.show()"
   ]
  },
  {
   "cell_type": "markdown",
   "metadata": {
    "pycharm": {
     "name": "#%% md\n"
    }
   },
   "source": [
    "El siguiente gráfico, mi ordenador no tiene bastantes recursos para dibujarlo"
   ]
  },
  {
   "cell_type": "code",
   "execution_count": null,
   "metadata": {
    "pycharm": {
     "name": "#%%\n"
    }
   },
   "outputs": [],
   "source": [
    "n_groups = len(datos_trafico['datetime'])\n",
    "means_ocupacion = datos_trafico['ocupacion']\n",
    "means_intensidad = datos_trafico['intensidad']\n",
    "means_velocidad = datos_trafico['velocidad']\n",
    "means_idTramo = datos_trafico['idTramo']\n",
    "\n",
    "fig, ax = plt.subplots()\n",
    "index = np.arange(n_groups)\n",
    "bar_width = 0.3\n",
    "opacity = 0.8\n",
    "\n",
    "rects1 = plt.bar(index, means_ocupacion, bar_width,\n",
    "alpha=opacity,\n",
    "color='b',\n",
    "label='ocupacion')\n",
    "\n",
    "rects2 = plt.bar(index + bar_width, intensidad, bar_width,\n",
    "alpha=opacity,\n",
    "color='g',\n",
    "label='intensidad')\n",
    "\n",
    "rects3 = plt.bar(index + bar_width, means_velocidad, bar_width,\n",
    "alpha=opacity,\n",
    "color='d',\n",
    "label='velocidad')\n",
    "\n",
    "rects4 = plt.bar(index + bar_width, means_idTramo, bar_width,\n",
    "alpha=opacity,\n",
    "color='e',\n",
    "label='idTramo')\n",
    "\n",
    "fechas = (datos_trafico['datetime'])\n",
    "\n",
    "plt.xlabel('Fechas')\n",
    "plt.ylabel('Valor')\n",
    "plt.title('Valores por Fecha')\n",
    "plt.xticks(index + bar_width, fechas)\n",
    "plt.legend()\n",
    "\n",
    "plt.tight_layout()\n",
    "plt.show()"
   ]
  },
  {
   "cell_type": "code",
   "execution_count": null,
   "metadata": {
    "pycharm": {
     "name": "#%%\n"
    }
   },
   "outputs": [],
   "source": []
  },
  {
   "cell_type": "markdown",
   "metadata": {
    "pycharm": {
     "name": "#%% md\n"
    }
   },
   "source": [
    "AGRUPACION POR LA MEDIA DE OCUPACION Y VELOCIDAD POR HORA POR TRAMOS DEL TRÁFICO"
   ]
  },
  {
   "cell_type": "code",
   "execution_count": 5,
   "metadata": {
    "pycharm": {
     "name": "#%%\n"
    }
   },
   "outputs": [],
   "source": [
    "trafico_2semestre2019=pd.read_pickle('trafico_2semestre2019.plk')"
   ]
  },
  {
   "cell_type": "code",
   "execution_count": 6,
   "metadata": {
    "pycharm": {
     "name": "#%%\n"
    }
   },
   "outputs": [
    {
     "data": {
      "text/html": [
       "<div>\n",
       "<style scoped>\n",
       "    .dataframe tbody tr th:only-of-type {\n",
       "        vertical-align: middle;\n",
       "    }\n",
       "\n",
       "    .dataframe tbody tr th {\n",
       "        vertical-align: top;\n",
       "    }\n",
       "\n",
       "    .dataframe thead th {\n",
       "        text-align: right;\n",
       "    }\n",
       "</style>\n",
       "<table border=\"1\" class=\"dataframe\">\n",
       "  <thead>\n",
       "    <tr style=\"text-align: right;\">\n",
       "      <th></th>\n",
       "      <th>idTramo</th>\n",
       "      <th>descripcion</th>\n",
       "      <th>fechahora</th>\n",
       "      <th>intensidad</th>\n",
       "      <th>ocupacion</th>\n",
       "      <th>velocidad</th>\n",
       "    </tr>\n",
       "  </thead>\n",
       "  <tbody>\n",
       "    <tr>\n",
       "      <th>0</th>\n",
       "      <td>26</td>\n",
       "      <td>MARÍA CRISTINA, Nº 1 (del giro de C/ San Vicen...</td>\n",
       "      <td>2019-07-01</td>\n",
       "      <td>26</td>\n",
       "      <td>0</td>\n",
       "      <td>12</td>\n",
       "    </tr>\n",
       "    <tr>\n",
       "      <th>1</th>\n",
       "      <td>1396</td>\n",
       "      <td>CV - 315 (BENIFARAIG) sentido VALENCIA</td>\n",
       "      <td>2019-07-01</td>\n",
       "      <td>124</td>\n",
       "      <td>0</td>\n",
       "      <td>24</td>\n",
       "    </tr>\n",
       "    <tr>\n",
       "      <th>2</th>\n",
       "      <td>1104</td>\n",
       "      <td>AV. CONSTITUCIÓN Nº 188 (de Coronel Montesinos...</td>\n",
       "      <td>2019-07-01</td>\n",
       "      <td>38</td>\n",
       "      <td>0</td>\n",
       "      <td>11</td>\n",
       "    </tr>\n",
       "    <tr>\n",
       "      <th>3</th>\n",
       "      <td>990</td>\n",
       "      <td>AV. CONSTITUCIÓN, Nº 188 (de Pl. D. Bosco a Co...</td>\n",
       "      <td>2019-07-01</td>\n",
       "      <td>112</td>\n",
       "      <td>0</td>\n",
       "      <td>11</td>\n",
       "    </tr>\n",
       "    <tr>\n",
       "      <th>4</th>\n",
       "      <td>992</td>\n",
       "      <td>CONDE LUMIARES, Nº 22 (Pl. Tosal del Rey a Ped...</td>\n",
       "      <td>2019-07-01</td>\n",
       "      <td>126</td>\n",
       "      <td>1</td>\n",
       "      <td>14</td>\n",
       "    </tr>\n",
       "  </tbody>\n",
       "</table>\n",
       "</div>"
      ],
      "text/plain": [
       "   idTramo                                        descripcion  fechahora  \\\n",
       "0       26  MARÍA CRISTINA, Nº 1 (del giro de C/ San Vicen... 2019-07-01   \n",
       "1     1396             CV - 315 (BENIFARAIG) sentido VALENCIA 2019-07-01   \n",
       "2     1104  AV. CONSTITUCIÓN Nº 188 (de Coronel Montesinos... 2019-07-01   \n",
       "3      990  AV. CONSTITUCIÓN, Nº 188 (de Pl. D. Bosco a Co... 2019-07-01   \n",
       "4      992  CONDE LUMIARES, Nº 22 (Pl. Tosal del Rey a Ped... 2019-07-01   \n",
       "\n",
       "   intensidad  ocupacion  velocidad  \n",
       "0          26          0         12  \n",
       "1         124          0         24  \n",
       "2          38          0         11  \n",
       "3         112          0         11  \n",
       "4         126          1         14  "
      ]
     },
     "execution_count": 6,
     "metadata": {},
     "output_type": "execute_result"
    }
   ],
   "source": [
    "trafico_2semestre2019.rename(columns={ 'datetime':'fechahora'}, inplace=True)\n",
    "trafico_2semestre2019.head()"
   ]
  },
  {
   "cell_type": "code",
   "execution_count": 7,
   "metadata": {
    "pycharm": {
     "name": "#%%\n"
    }
   },
   "outputs": [],
   "source": [
    "trafico_2semestre2019['fecha']=pd.to_datetime(trafico_2semestre2019['fechahora'],format='%Y/%d/%m')\n",
    "trafico_2semestre2019['hora']=trafico_2semestre2019['fechahora'].dt.time\n",
    "trafico_2semestre2019['hora'] = pd.to_datetime(trafico_2semestre2019['hora'], format='%H:%M:%S')"
   ]
  },
  {
   "cell_type": "markdown",
   "metadata": {
    "pycharm": {
     "name": "#%% md\n"
    }
   },
   "source": [
    "Creo los campos fecha y hora para borrar el campo fechahora ya que luego necesitaré que estos campos esten por separado"
   ]
  },
  {
   "cell_type": "code",
   "execution_count": 8,
   "metadata": {
    "pycharm": {
     "name": "#%%\n"
    }
   },
   "outputs": [
    {
     "data": {
      "text/html": [
       "<div>\n",
       "<style scoped>\n",
       "    .dataframe tbody tr th:only-of-type {\n",
       "        vertical-align: middle;\n",
       "    }\n",
       "\n",
       "    .dataframe tbody tr th {\n",
       "        vertical-align: top;\n",
       "    }\n",
       "\n",
       "    .dataframe thead th {\n",
       "        text-align: right;\n",
       "    }\n",
       "</style>\n",
       "<table border=\"1\" class=\"dataframe\">\n",
       "  <thead>\n",
       "    <tr style=\"text-align: right;\">\n",
       "      <th></th>\n",
       "      <th>idTramo</th>\n",
       "      <th>descripcion</th>\n",
       "      <th>fechahora</th>\n",
       "      <th>intensidad</th>\n",
       "      <th>ocupacion</th>\n",
       "      <th>velocidad</th>\n",
       "      <th>fecha</th>\n",
       "      <th>hora</th>\n",
       "    </tr>\n",
       "  </thead>\n",
       "  <tbody>\n",
       "    <tr>\n",
       "      <th>27226658</th>\n",
       "      <td>701</td>\n",
       "      <td>GUILLEM DE CASTRO, Nº 140 (de Pte. de las Arte...</td>\n",
       "      <td>2019-12-05 12:10:00</td>\n",
       "      <td>952</td>\n",
       "      <td>3</td>\n",
       "      <td>46</td>\n",
       "      <td>2019-12-05 12:10:00</td>\n",
       "      <td>1900-01-01 12:10:00</td>\n",
       "    </tr>\n",
       "    <tr>\n",
       "      <th>27226659</th>\n",
       "      <td>703</td>\n",
       "      <td>BLANQUERIAS, Nº 24 (de Pte. San José a Torres ...</td>\n",
       "      <td>2019-12-05 12:10:00</td>\n",
       "      <td>853</td>\n",
       "      <td>3</td>\n",
       "      <td>47</td>\n",
       "      <td>2019-12-05 12:10:00</td>\n",
       "      <td>1900-01-01 12:10:00</td>\n",
       "    </tr>\n",
       "    <tr>\n",
       "      <th>27226660</th>\n",
       "      <td>713</td>\n",
       "      <td>Pº PECHINA, Nº 1 (de Turia a Guillem de Castro)</td>\n",
       "      <td>2019-12-05 12:10:00</td>\n",
       "      <td>212</td>\n",
       "      <td>2</td>\n",
       "      <td>30</td>\n",
       "      <td>2019-12-05 12:10:00</td>\n",
       "      <td>1900-01-01 12:10:00</td>\n",
       "    </tr>\n",
       "    <tr>\n",
       "      <th>27226661</th>\n",
       "      <td>714</td>\n",
       "      <td>BORRULL, s/n (de G.V. Fernando el Católico a D...</td>\n",
       "      <td>2019-12-05 12:10:00</td>\n",
       "      <td>176</td>\n",
       "      <td>4</td>\n",
       "      <td>19</td>\n",
       "      <td>2019-12-05 12:10:00</td>\n",
       "      <td>1900-01-01 12:10:00</td>\n",
       "    </tr>\n",
       "    <tr>\n",
       "      <th>27226662</th>\n",
       "      <td>716</td>\n",
       "      <td>MURILLO, Nº 54 (de Aladrers a Guillem de Castro)</td>\n",
       "      <td>2019-12-05 12:10:00</td>\n",
       "      <td>251</td>\n",
       "      <td>22</td>\n",
       "      <td>8</td>\n",
       "      <td>2019-12-05 12:10:00</td>\n",
       "      <td>1900-01-01 12:10:00</td>\n",
       "    </tr>\n",
       "  </tbody>\n",
       "</table>\n",
       "</div>"
      ],
      "text/plain": [
       "          idTramo                                        descripcion  \\\n",
       "27226658      701  GUILLEM DE CASTRO, Nº 140 (de Pte. de las Arte...   \n",
       "27226659      703  BLANQUERIAS, Nº 24 (de Pte. San José a Torres ...   \n",
       "27226660      713    Pº PECHINA, Nº 1 (de Turia a Guillem de Castro)   \n",
       "27226661      714  BORRULL, s/n (de G.V. Fernando el Católico a D...   \n",
       "27226662      716   MURILLO, Nº 54 (de Aladrers a Guillem de Castro)   \n",
       "\n",
       "                   fechahora  intensidad  ocupacion  velocidad  \\\n",
       "27226658 2019-12-05 12:10:00         952          3         46   \n",
       "27226659 2019-12-05 12:10:00         853          3         47   \n",
       "27226660 2019-12-05 12:10:00         212          2         30   \n",
       "27226661 2019-12-05 12:10:00         176          4         19   \n",
       "27226662 2019-12-05 12:10:00         251         22          8   \n",
       "\n",
       "                       fecha                hora  \n",
       "27226658 2019-12-05 12:10:00 1900-01-01 12:10:00  \n",
       "27226659 2019-12-05 12:10:00 1900-01-01 12:10:00  \n",
       "27226660 2019-12-05 12:10:00 1900-01-01 12:10:00  \n",
       "27226661 2019-12-05 12:10:00 1900-01-01 12:10:00  \n",
       "27226662 2019-12-05 12:10:00 1900-01-01 12:10:00  "
      ]
     },
     "execution_count": 8,
     "metadata": {},
     "output_type": "execute_result"
    }
   ],
   "source": [
    "trafico_2semestre2019.tail()"
   ]
  },
  {
   "cell_type": "code",
   "execution_count": 9,
   "metadata": {
    "pycharm": {
     "name": "#%%\n"
    }
   },
   "outputs": [],
   "source": [
    "trafico_2semestre2019.drop(['fechahora'], axis=1, inplace=True)"
   ]
  },
  {
   "cell_type": "code",
   "execution_count": 10,
   "metadata": {
    "pycharm": {
     "name": "#%%\n"
    }
   },
   "outputs": [
    {
     "data": {
      "text/plain": [
       "idTramo                 int64\n",
       "descripcion            object\n",
       "intensidad              int64\n",
       "ocupacion               int64\n",
       "velocidad               int64\n",
       "fecha          datetime64[ns]\n",
       "hora           datetime64[ns]\n",
       "dtype: object"
      ]
     },
     "execution_count": 10,
     "metadata": {},
     "output_type": "execute_result"
    }
   ],
   "source": [
    "trafico_2semestre2019.dtypes"
   ]
  },
  {
   "cell_type": "code",
   "execution_count": 11,
   "metadata": {
    "pycharm": {
     "name": "#%%\n"
    }
   },
   "outputs": [],
   "source": [
    "trafico_2semestre2019_por_tramos_y_descripcion_media_horas_intensidad_ocupacion_velocidad = trafico_2semestre2019.groupby([\n",
    "    trafico_2semestre2019['idTramo'],\n",
    "    trafico_2semestre2019['descripcion'],\n",
    "    trafico_2semestre2019['fecha'].dt.date,\n",
    "    trafico_2semestre2019['hora'].dt.hour]).agg({'intensidad': ['count','mean'],\n",
    "                                                      'ocupacion': ['count','mean'], \n",
    "                                                      'velocidad':['count','mean']}).reset_index()"
   ]
  },
  {
   "cell_type": "markdown",
   "metadata": {
    "pycharm": {
     "name": "#%% md\n"
    }
   },
   "source": [
    "He agrupado por tramo, descripcion, fecha y hora. Dentro de cada hora hay 6 medidas, 1 cada 10 minutos, las agrego por count y media. Agrego Media y count de intensidad, ocupacion y velocidad. La función reset_index permite mantener en el dataframe las columnas que no son la agregacion (idTramo, descripcion, fecha, hora)"
   ]
  },
  {
   "cell_type": "code",
   "execution_count": 12,
   "metadata": {
    "pycharm": {
     "name": "#%%\n"
    }
   },
   "outputs": [
    {
     "data": {
      "text/html": [
       "<div>\n",
       "<style scoped>\n",
       "    .dataframe tbody tr th:only-of-type {\n",
       "        vertical-align: middle;\n",
       "    }\n",
       "\n",
       "    .dataframe tbody tr th {\n",
       "        vertical-align: top;\n",
       "    }\n",
       "\n",
       "    .dataframe thead tr th {\n",
       "        text-align: left;\n",
       "    }\n",
       "</style>\n",
       "<table border=\"1\" class=\"dataframe\">\n",
       "  <thead>\n",
       "    <tr>\n",
       "      <th></th>\n",
       "      <th>idTramo</th>\n",
       "      <th>descripcion</th>\n",
       "      <th>fecha</th>\n",
       "      <th>hora</th>\n",
       "      <th colspan=\"2\" halign=\"left\">intensidad</th>\n",
       "      <th colspan=\"2\" halign=\"left\">ocupacion</th>\n",
       "      <th colspan=\"2\" halign=\"left\">velocidad</th>\n",
       "    </tr>\n",
       "    <tr>\n",
       "      <th></th>\n",
       "      <th></th>\n",
       "      <th></th>\n",
       "      <th></th>\n",
       "      <th></th>\n",
       "      <th>count</th>\n",
       "      <th>mean</th>\n",
       "      <th>count</th>\n",
       "      <th>mean</th>\n",
       "      <th>count</th>\n",
       "      <th>mean</th>\n",
       "    </tr>\n",
       "  </thead>\n",
       "  <tbody>\n",
       "    <tr>\n",
       "      <th>0</th>\n",
       "      <td>1</td>\n",
       "      <td>PINTOR SOROLLA, Nº 1 (de Poeta Querol a Univer...</td>\n",
       "      <td>2019-07-01</td>\n",
       "      <td>0</td>\n",
       "      <td>6</td>\n",
       "      <td>292.500000</td>\n",
       "      <td>6</td>\n",
       "      <td>0.666667</td>\n",
       "      <td>6</td>\n",
       "      <td>20.333333</td>\n",
       "    </tr>\n",
       "    <tr>\n",
       "      <th>1</th>\n",
       "      <td>1</td>\n",
       "      <td>PINTOR SOROLLA, Nº 1 (de Poeta Querol a Univer...</td>\n",
       "      <td>2019-07-01</td>\n",
       "      <td>1</td>\n",
       "      <td>6</td>\n",
       "      <td>123.000000</td>\n",
       "      <td>6</td>\n",
       "      <td>0.000000</td>\n",
       "      <td>6</td>\n",
       "      <td>8.333333</td>\n",
       "    </tr>\n",
       "    <tr>\n",
       "      <th>2</th>\n",
       "      <td>1</td>\n",
       "      <td>PINTOR SOROLLA, Nº 1 (de Poeta Querol a Univer...</td>\n",
       "      <td>2019-07-01</td>\n",
       "      <td>2</td>\n",
       "      <td>6</td>\n",
       "      <td>74.166667</td>\n",
       "      <td>6</td>\n",
       "      <td>0.000000</td>\n",
       "      <td>6</td>\n",
       "      <td>4.166667</td>\n",
       "    </tr>\n",
       "    <tr>\n",
       "      <th>3</th>\n",
       "      <td>1</td>\n",
       "      <td>PINTOR SOROLLA, Nº 1 (de Poeta Querol a Univer...</td>\n",
       "      <td>2019-07-01</td>\n",
       "      <td>3</td>\n",
       "      <td>6</td>\n",
       "      <td>42.500000</td>\n",
       "      <td>6</td>\n",
       "      <td>0.000000</td>\n",
       "      <td>6</td>\n",
       "      <td>1.833333</td>\n",
       "    </tr>\n",
       "    <tr>\n",
       "      <th>4</th>\n",
       "      <td>1</td>\n",
       "      <td>PINTOR SOROLLA, Nº 1 (de Poeta Querol a Univer...</td>\n",
       "      <td>2019-07-01</td>\n",
       "      <td>4</td>\n",
       "      <td>6</td>\n",
       "      <td>35.000000</td>\n",
       "      <td>6</td>\n",
       "      <td>0.000000</td>\n",
       "      <td>6</td>\n",
       "      <td>2.000000</td>\n",
       "    </tr>\n",
       "  </tbody>\n",
       "</table>\n",
       "</div>"
      ],
      "text/plain": [
       "  idTramo                                        descripcion       fecha hora  \\\n",
       "                                                                                \n",
       "0       1  PINTOR SOROLLA, Nº 1 (de Poeta Querol a Univer...  2019-07-01    0   \n",
       "1       1  PINTOR SOROLLA, Nº 1 (de Poeta Querol a Univer...  2019-07-01    1   \n",
       "2       1  PINTOR SOROLLA, Nº 1 (de Poeta Querol a Univer...  2019-07-01    2   \n",
       "3       1  PINTOR SOROLLA, Nº 1 (de Poeta Querol a Univer...  2019-07-01    3   \n",
       "4       1  PINTOR SOROLLA, Nº 1 (de Poeta Querol a Univer...  2019-07-01    4   \n",
       "\n",
       "  intensidad             ocupacion           velocidad             \n",
       "       count        mean     count      mean     count       mean  \n",
       "0          6  292.500000         6  0.666667         6  20.333333  \n",
       "1          6  123.000000         6  0.000000         6   8.333333  \n",
       "2          6   74.166667         6  0.000000         6   4.166667  \n",
       "3          6   42.500000         6  0.000000         6   1.833333  \n",
       "4          6   35.000000         6  0.000000         6   2.000000  "
      ]
     },
     "execution_count": 12,
     "metadata": {},
     "output_type": "execute_result"
    }
   ],
   "source": [
    "trafico_2semestre2019_por_tramos_y_descripcion_media_horas_intensidad_ocupacion_velocidad.head()"
   ]
  },
  {
   "cell_type": "code",
   "execution_count": 13,
   "metadata": {
    "pycharm": {
     "name": "#%%\n"
    }
   },
   "outputs": [],
   "source": [
    "trafico_2semestre2019_por_tramos_y_descripcion_media_horas_intensidad_ocupacion_velocidad.to_csv(r'trafico_2semestre2019_por_tramos_y_descripcion_media_horas_intensidad_ocupacion_velocidad.csv', index = False)"
   ]
  },
  {
   "cell_type": "code",
   "execution_count": 14,
   "metadata": {
    "pycharm": {
     "name": "#%%\n"
    }
   },
   "outputs": [],
   "source": [
    "trafico_2semestre2019_por_tramos_y_descripcion_media_horas_intensidad_ocupacion_velocidad.to_pickle('trafico_2semestre2019_por_tramos_y_descripcion_media_horas_intensidad_ocupacion_velocidad.plk')"
   ]
  },
  {
   "cell_type": "code",
   "execution_count": 15,
   "metadata": {
    "pycharm": {
     "name": "#%%\n"
    }
   },
   "outputs": [],
   "source": [
    "trafico_2semestre2019=pd.read_pickle('trafico_2semestre2019_por_tramos_y_descripcion_media_horas_intensidad_ocupacion_velocidad.plk')"
   ]
  },
  {
   "cell_type": "code",
   "execution_count": null,
   "metadata": {
    "pycharm": {
     "name": "#%%\n"
    }
   },
   "outputs": [],
   "source": []
  }
 ],
 "metadata": {
  "kernelspec": {
   "display_name": "Python 3",
   "language": "python",
   "name": "python3"
  },
  "language_info": {
   "codemirror_mode": {
    "name": "ipython",
    "version": 3
   },
   "file_extension": ".py",
   "mimetype": "text/x-python",
   "name": "python",
   "nbconvert_exporter": "python",
   "pygments_lexer": "ipython3",
   "version": "3.8.5"
  }
 },
 "nbformat": 4,
 "nbformat_minor": 4
}